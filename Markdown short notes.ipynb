{
 "cells": [
  {
   "cell_type": "markdown",
   "metadata": {},
   "source": [
    "# ...Markdown Short notes..."
   ]
  },
    {
   "cell_type": "markdown",
   "metadata": {},
   "source": [
    "----"
    "___"
   ]
  },
  {
   "cell_type": "markdown",
   "metadata": {},
   "source": [
    "# 1.Headings:\n",
    "\n",
    "Use # to give heading\n",
    "eg. # Heading1\n",
    "\n",
    "# Heading 1\n",
    "## Heading 2\n",
    "### Heading 3\n",
    "#### Heading 4\n",
    "so on.."
   ]
  },
  {
   "cell_type": "markdown",
   "metadata": {},
   "source": [
    "# 2. Italics :\n",
    "\n",
    "Use * Italic *  or _ italic _\n",
    "\n",
    "without space \n",
    "\n",
    "*This text*  is italic\n",
    "\n",
    "_This text_  is italic"
   ]
  },
  {
   "cell_type": "markdown",
   "metadata": {},
   "source": [
    "# 3. Strong :\n",
    "\n",
    "\n",
    "Use ** strong ** or __ strong__ \n",
    "\n",
    "without space\n",
    " \n",
    "   **This text** is bolt\n",
    "   \n",
    "   __This text__ is bolt"
   ]
  },
  {
   "cell_type": "markdown",
   "metadata": {},
   "source": [
    "# 4. strickthrough :\n",
    "\n",
    "~~ this text ~~ is strickthrough\n",
    "\n",
    "~~this text~~ is strickthrough"
   ]
  },
  {
   "cell_type": "markdown",
   "metadata": {},
   "source": [
    "# 5.horizontal rule :\n",
    "\n",
    "Use --- to print a horizontal line\n",
    "\n",
    "----"
   ]
  },
  {
   "cell_type": "markdown",
   "metadata": {},
   "source": [
    "# 6. Blockquote :\n",
    "\n",
    "use > \n",
    "\n",
    ">this is a line "
   ]
  },
  {
   "cell_type": "markdown",
   "metadata": {},
   "source": [
    "# 7 links:\n",
    "\n",
    "[link name](link address)\n",
    "\n",
    "[google](https://www,google.com)\n",
    "\n",
    "if you want details of the link when the cursor is on the link then ...\n",
    "[link name](link address \"link details)\n",
    "\n",
    "[google](https://www,google.com \"google home page\")\n"
   ]
  },
  {
   "cell_type": "markdown",
   "metadata": {},
   "source": [
    "# 8 UL :\n",
    "\n",
    "use *\n",
    "\n",
    "for subitem use space and *\n",
    "\n",
    "* item 1\n",
    "* item 2\n",
    "* item 3\n",
    " * subitem 1\n",
    " * subitem 2\n",
    " * subitem 3\n",
    " \n",
    "for number use 1.\n",
    "\n",
    "1. item1\n",
    "1. item2\n",
    "1. item3"
   ]
  },
  {
   "cell_type": "markdown",
   "metadata": {},
   "source": [
    "# 9 Image :\n",
    "\n",
    "![image name](image address)\n",
    "\n",
    "![Markdowm logo](https://markdown-here.com/img/icon256.png)"
   ]
  },
  {
   "cell_type": "markdown",
   "metadata": {},
   "source": [
    "# 10. github markdown :\n",
    "\n",
    "## code blocks\n",
    "\n",
    "use this at start and end of the code ``` \n",
    "\n",
    "```\n",
    "  pip install pandas\n",
    "\n",
    "```\n",
    "\n",
    "also ``` to highlite the something in the line ```\n",
    "\n",
    "\n",
    "and also to write javascript and python code \n",
    "\n",
    "```python\n",
    "print(\"Markdown is fun\")\n",
    "sum = 4+3\n",
    "return sum\n",
    "```"
   ]
  },
  {
   "cell_type": "code",
   "execution_count": null,
   "metadata": {},
   "outputs": [],
   "source": []
  }
 ],
 "metadata": {
  "kernelspec": {
   "display_name": "Python 3",
   "language": "python",
   "name": "python3"
  },
  "language_info": {
   "codemirror_mode": {
    "name": "ipython",
    "version": 3
   },
   "file_extension": ".py",
   "mimetype": "text/x-python",
   "name": "python",
   "nbconvert_exporter": "python",
   "pygments_lexer": "ipython3",
   "version": "3.7.4"
  }
 },
 "nbformat": 4,
 "nbformat_minor": 2
}
